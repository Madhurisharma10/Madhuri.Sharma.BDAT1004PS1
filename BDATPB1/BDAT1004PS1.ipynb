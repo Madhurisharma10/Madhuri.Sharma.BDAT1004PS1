{
 "cells": [
  {
   "cell_type": "markdown",
   "metadata": {},
   "source": [
    "# Question 1"
   ]
  },
  {
   "cell_type": "markdown",
   "metadata": {},
   "source": [
    "What data type is each of the following?"
   ]
  },
  {
   "cell_type": "markdown",
   "metadata": {},
   "source": [
    "|Exception          | Description             |                \n",
    "| :---              |-----------------:       |          \n",
    "| 5                 | Int     | \n",
    "| 5.0               | float   |  \n",
    "| 5 > 1             |  bool   |  \n",
    "| '5'               |  str    |  \n",
    "| 5 * 2             |  int    |   \n",
    "| '5' * 2           | str     |  \n",
    "| '5' + '2'         | str     |  \n",
    "| 5 / 2             | float   | \n",
    "| 5 // 2            |  int    |   \n",
    "| [5, 2, 1]         |  list   |   \n",
    "| 5 in [1, 4, 6]    |  bool   |   \n",
    "| Pi (the number)   |  float  |  "
   ]
  },
  {
   "cell_type": "markdown",
   "metadata": {},
   "source": [
    "# Question 2"
   ]
  },
  {
   "cell_type": "markdown",
   "metadata": {},
   "source": [
    "Write (and evaluate) C# expressions that answer these questions:"
   ]
  },
  {
   "cell_type": "markdown",
   "metadata": {},
   "source": [
    "a. How many letters are there in 'Supercalifragilisticexpialidocious'?"
   ]
  },
  {
   "cell_type": "markdown",
   "metadata": {},
   "source": [
    "using System;\n",
    "\n",
    "namespace MyApplication\n",
    "{\n",
    "    class Program\n",
    "    {\n",
    "        static void Main(string[] args)\n",
    "        {\n",
    "            string txt = \"Supercalifragilisticexpialidocious\";\n",
    "            Console.WriteLine(\"The length of the txt string is: \" + txt.Length);\n",
    "        }\n",
    "    }\n",
    "}"
   ]
  },
  {
   "cell_type": "markdown",
   "metadata": {},
   "source": [
    "<img src=\"Question2a.png\">"
   ]
  },
  {
   "cell_type": "markdown",
   "metadata": {},
   "source": [
    "b. Does 'Supercalifragilisticexpialidocious' contain 'ice' as a substring? "
   ]
  },
  {
   "cell_type": "markdown",
   "metadata": {},
   "source": [
    "using System;\n",
    "using System.Collections.Generic;\n",
    "using System.Linq;\n",
    "using System.Text;\n",
    "\n",
    "namespace ConsoleApplication1\n",
    "{\n",
    "\tclass Program\n",
    "\t{\n",
    "\t\tstatic void Main()\n",
    "\t\t{\n",
    "\t\t\tstring str = \"Supercalifragilisticexpialidocious\";\n",
    "\n",
    "\t\t\tif (str.Contains(\"ice\") == true)\n",
    "\t\t\t{\n",
    "\t\t\t\tConsole.WriteLine(\"Yes,Supercalifragilisticexpialidocious contain 'ice' as a substring\");\n",
    "\t\t\t}\n",
    "\t\t\telse\n",
    "\t\t\t{\n",
    "\t\t\t\tConsole.WriteLine(\"No,Supercalifragilisticexpialidocious does not contain 'ice' as a substring\");\n",
    "\t\t\t}\n",
    "\n",
    "\n",
    "\t\t\t\n",
    "\t\t}\n",
    "\t}\n",
    "}"
   ]
  },
  {
   "cell_type": "markdown",
   "metadata": {},
   "source": [
    "<img src=\"Solution2b.png\">"
   ]
  },
  {
   "cell_type": "markdown",
   "metadata": {},
   "source": [
    "c. Which of the following words is the longest:\n",
    "Supercalifragilisticexpialidocious, Honorificabilitudinitatibus, or Bababadalgharaghtakamminarronnkonn? "
   ]
  },
  {
   "cell_type": "markdown",
   "metadata": {},
   "source": [
    "using System;\n",
    "\n",
    "namespace question2c\n",
    "{\n",
    "    class Program\n",
    "    {\n",
    "        static void Main(string[] args)\n",
    "        {\n",
    "            string[] array1 = { \"Supercalifragilisticexpialidocious\", \"Honorificabilitudinitatibus\",\"Bababadalgharaghtakamminarronnkonn\" };\n",
    "          //  var shortString = array1[0];\n",
    "            var longString = array1[0];\n",
    "\n",
    "            foreach (var a in array1)\n",
    "            {\n",
    "                if (longString.Length < a.Length)\n",
    "                    longString = a;\n",
    "            }\n",
    "            Console.WriteLine(\"Longest word is:\" + longString);\n",
    "            Console.Read();\n",
    "        }\n",
    "    }\n",
    "}\n"
   ]
  },
  {
   "cell_type": "markdown",
   "metadata": {},
   "source": [
    "<img src=\"solution2c.png\">"
   ]
  },
  {
   "cell_type": "markdown",
   "metadata": {},
   "source": [
    "d. Which composer comes first in the dictionary: 'Berlioz', 'Borodin', 'Brian',\n",
    "'Bartok', 'Bellini', 'Buxtehude', 'Bernstein'. Which one comes last?"
   ]
  },
  {
   "cell_type": "markdown",
   "metadata": {},
   "source": [
    "using System;\n",
    "\n",
    "namespace question2d\n",
    "{\n",
    "public class Demo\n",
    "        {\n",
    "            public static void Main()\n",
    "            {\n",
    "                string[] str = new string[] {\"Berlioz\", \"Borodin\", \"Brian\",\n",
    "\"Bartok\", \"Bellini\", \"Buxtehude\", \"Bernstein\"};\n",
    "            Array.Sort(str);\n",
    "            foreach (string i in str)\n",
    "            {\n",
    "                Console.WriteLine(i);\n",
    "            }\n",
    "\n",
    "            Console.WriteLine(\"First element: \" + str[0]) ;\n",
    "            Console.WriteLine(\"Last element: \" + str[str.Length - 1]);\n",
    "            }\n",
    "        }\n",
    "    }\n",
    "   "
   ]
  },
  {
   "cell_type": "markdown",
   "metadata": {},
   "source": [
    "<img src=\"Solution2d.png\">"
   ]
  },
  {
   "cell_type": "markdown",
   "metadata": {},
   "source": [
    "# Question 3"
   ]
  },
  {
   "cell_type": "markdown",
   "metadata": {},
   "source": [
    "Implement function triangleArea(a,b,c) that takes as input the lengths of the 3\n",
    "sides of a triangle and returns the area of the triangle. By Heron's formula, the area\n",
    "of a triangle with side lengths a, b, and c is\n",
    "s(s - a)(s -b)(s -c)\n",
    ", where\n",
    "s = (a+b+c)/2."
   ]
  },
  {
   "cell_type": "markdown",
   "metadata": {},
   "source": [
    "\n",
    "namespace triangleArea\n",
    "{\n",
    "    class Program\n",
    "    {\n",
    "        static void Main(string[] args)\n",
    "        {\n",
    "\n",
    "            double a, b, c;\n",
    "            double area;\n",
    "            Console.WriteLine(\"First side\");\n",
    "            a = double.Parse(Console.ReadLine());\n",
    "            Console.WriteLine(\"Second side\");\n",
    "            b = double.Parse(Console.ReadLine());\n",
    "            Console.WriteLine(\"Third side \");\n",
    "            c = double.Parse(Console.ReadLine());\n",
    "            area= Test(a,b,c);\n",
    "            Console.WriteLine(area);\n",
    "\n",
    "        }\n",
    "\n",
    "        static double Test(double a,double b,double c)\n",
    "        {\n",
    "            double s = (a + b + c) / 2;\n",
    "            double area = Math.Sqrt(s * (s - a) * (s - b) * (s - c));\n",
    "            return area;\n",
    "        }\n",
    "       \n",
    "    }\n",
    "}"
   ]
  },
  {
   "cell_type": "markdown",
   "metadata": {},
   "source": [
    "<img src=\"Solution3.png\">"
   ]
  },
  {
   "cell_type": "markdown",
   "metadata": {},
   "source": [
    "# Question 4"
   ]
  },
  {
   "cell_type": "markdown",
   "metadata": {},
   "source": [
    "Write a program in C# Sharp to separate odd and even integers in separate arrays.\n",
    "Go to the editor\n",
    "Test Data :\n",
    "Input the number of elements to be stored in the array :5\n",
    "Input 5 elements in the array :\n",
    "element - 0 : 25\n",
    "element - 1 : 47\n",
    "element - 2 : 42\n",
    "element - 3 : 56\n",
    "element - 4 : 32"
   ]
  },
  {
   "cell_type": "markdown",
   "metadata": {},
   "source": [
    "using System;\n",
    "namespace Demo\n",
    "{\n",
    "    public class Program\n",
    "    {\n",
    "        public static void Main(string[] args)\n",
    "        {\n",
    "            int[] array1 = new int[] {25,47,42,56,32};\n",
    "            int[] array2 = new int[5];\n",
    "            int[] array3 = new int[5];\n",
    "            int i, j = 0, k = 0;\n",
    "            for (i = 0; i < 5; i++)\n",
    "            {\n",
    "                if (array1[i] % 2 == 0)\n",
    "                {\n",
    "                    array2[j] = array1[i];\n",
    "                    j++;\n",
    "                }\n",
    "                else\n",
    "                {\n",
    "                    array3[k] = array1[i];\n",
    "                    k++;\n",
    "                }\n",
    "            }\n",
    "            Console.WriteLine(\"The Even elements are:\");\n",
    "            for (i = 0; i < j; i++)\n",
    "            {\n",
    "                Console.WriteLine(array2[i]);\n",
    "            }\n",
    "            Console.WriteLine(\"The Odd elements are:\");\n",
    "            for (i = 0; i < k; i++)\n",
    "            {\n",
    "                Console.WriteLine(array3[i]);\n",
    "            }\n",
    "        }\n",
    "    }\n",
    "}"
   ]
  },
  {
   "cell_type": "markdown",
   "metadata": {},
   "source": [
    "<img src=\"Solution4.png\">"
   ]
  },
  {
   "cell_type": "markdown",
   "metadata": {},
   "source": [
    "# Question 5"
   ]
  },
  {
   "cell_type": "markdown",
   "metadata": {},
   "source": [
    "a) Write a function inside(x,y,x1,y1,x2,y2) that returns True or False\n",
    "depending on whether the point (x,y) lies in the rectangle with lower left\n",
    "corner (x1,y1) and upper right corner (x2,y2)."
   ]
  },
  {
   "cell_type": "markdown",
   "metadata": {},
   "source": [
    "using System;\n",
    "\n",
    "namespace question5\n",
    "{\n",
    "    class Program\n",
    "    {\n",
    "        public static void Main()\n",
    "        {\n",
    "            int x1 = 0, y1 = 0,\n",
    "                x2 = 2 , y2 = 3 ;\n",
    "\n",
    "            int x = 1, y = 1;\n",
    "\n",
    "            if (points(x, y, x1, y1, x2, y2))\n",
    "                Console.Write(\"True\");\n",
    "            else\n",
    "                Console.Write(\"False\");\n",
    "        }\n",
    "        static bool points(int x, int y, int x1, int y1, int x2, int y2)\n",
    "        {\n",
    "            if (x > x1 && x < x2 &&\n",
    "                y > y1 && y < y2)\n",
    "                return true;\n",
    "                return false;\n",
    "        }\n",
    "    }\n",
    "\n",
    "}"
   ]
  },
  {
   "cell_type": "markdown",
   "metadata": {},
   "source": [
    "<img src=\"Solution5a.png\">"
   ]
  },
  {
   "cell_type": "markdown",
   "metadata": {},
   "source": [
    "b ) Use function inside() from part a. to write an expression that tests whether\n",
    "the point (1,1) lies in both of the following rectangles: one with lower left\n",
    "corner (0.3, 0.5) and upper right corner (1.1, 0.7) and the other with lower\n",
    "left corner (0.5, 0.2) and upper right corner (1.1, 2). "
   ]
  },
  {
   "cell_type": "markdown",
   "metadata": {},
   "source": [
    "using System;\n",
    "\n",
    "class POINT\n",
    "{\n",
    "\n",
    "\tstatic bool FindPoint(float x1, float y1, float x2,\n",
    "\t\t\t\t\t\tfloat y2, float x, float y)\n",
    "\t{\n",
    "\t\tif (x > x1 && x < x2 &&\n",
    "\t\t\ty > y1 && y < y2)\n",
    "\t\t\treturn true;\n",
    "\n",
    "\t\treturn false;\n",
    "\n",
    "\t}\n",
    "\n",
    "\tpublic static void Main()\n",
    "\t{\n",
    "\t\tfloat x1, y1, x2, y2, x, y;\n",
    "\t\tConsole.Write(\"Enter value for point X: \");\n",
    "\t\tx = float.Parse(Console.ReadLine());\n",
    "\t\tConsole.Write(\"Enter value for Point Y: \");\n",
    "\t\ty = float.Parse(Console.ReadLine());\n",
    "\t\tConsole.Write(\"Enter value for one lower left-corner X1: \");\n",
    "\t\tx1 = float.Parse(Console.ReadLine());\n",
    "\t\tConsole.Write(\"Enter value for one lower left-corner Y1: \");\n",
    "\t\ty1 = float.Parse(Console.ReadLine());\n",
    "\t\tConsole.Write(\"Enter value for one upper right-corner X2: \");\n",
    "\t\tx2 = float.Parse(Console.ReadLine());\n",
    "\t\tConsole.Write(\"Enter value for one upper right-corner Y2: \");\n",
    "\t\ty2 = float.Parse(Console.ReadLine());\n",
    "\t\t\n",
    "\n",
    "\t\tif (FindPoint(x1, y1, x2, y2, x, y))\n",
    "\t\t\tConsole.Write(\"Yes,The point lies\");\n",
    "\t\telse\n",
    "\t\t\tConsole.Write(\"No,The point do not lies\");\n",
    "\t}\n",
    "}\n",
    "\n"
   ]
  },
  {
   "cell_type": "markdown",
   "metadata": {},
   "source": [
    "<img src=\"Solution5b1.png\">"
   ]
  },
  {
   "cell_type": "markdown",
   "metadata": {},
   "source": [
    "<img src=\"Solution5b2.png\">"
   ]
  },
  {
   "cell_type": "markdown",
   "metadata": {},
   "source": [
    "# Question 6"
   ]
  },
  {
   "cell_type": "markdown",
   "metadata": {},
   "source": [
    "You can turn a word into pig-Latin using the following two rules (simplified):\n",
    "• If the word starts with a consonant, move that letter to the end and append\n",
    "'ay'. For example, 'happy' becomes 'appyhay' and 'pencil' becomes 'encilpay'.\n",
    "• If the word starts with a vowel, simply append 'way' to the end of the word.\n",
    "For example, 'enter' becomes 'enterway' and 'other' becomes 'otherway' . For\n",
    "our purposes, there are 5 vowels: a, e, i, o, u (so we count y as a consonant).\n",
    "Write a function pig() that takes a word (i.e., a string) as input and returns its pigLatin form. Your function should still work if the input word contains upper case\n",
    "characters. Your output should always be lower case however"
   ]
  },
  {
   "cell_type": "code",
   "execution_count": 1,
   "metadata": {},
   "outputs": [
    {
     "name": "stdout",
     "output_type": "stream",
     "text": [
      "Enter a wordHappy\n",
      "appyhay\n"
     ]
    }
   ],
   "source": [
    "Enterword=input(\"Enter a word\")\n",
    "word1 = Enterword.lower()\n",
    "vowel = [\"a\",\"e\",\"i\",\"o\",\"u\"]\n",
    "def pig(word1): \n",
    "    if word1[0] in vowel:\n",
    "        return word1 + 'way' \n",
    "    else:\n",
    "        return word1[1:] + word1[0] +'ay'\n",
    "print(pig(word1))"
   ]
  },
  {
   "cell_type": "markdown",
   "metadata": {},
   "source": [
    "# Question 7"
   ]
  },
  {
   "cell_type": "markdown",
   "metadata": {},
   "source": [
    "File bloodtype1.txt records blood-types of patients (A, B, AB, O or OO) at a clinic.\n",
    "Write a function bldcount() that reads the file with name name and reports (i.e.,\n",
    "prints) how many patients there are in each bloodtype"
   ]
  },
  {
   "cell_type": "code",
   "execution_count": 2,
   "metadata": {},
   "outputs": [
    {
     "name": "stdout",
     "output_type": "stream",
     "text": [
      "['AB', 'AB', 'B', 'O', 'A', 'A', 'AB', 'O', 'AB', 'A', 'O', 'O', 'A', 'A', 'A', 'O', 'O', 'O', 'AB', 'O', 'A', 'A', 'A', 'A', 'A', 'AB', 'AB', 'A', 'AB', 'O', 'AB', 'O', 'A', 'O', 'O', 'O', 'AB', 'O', 'AB', 'AB', 'AB', 'A', 'A', 'O']\n",
      "There are 15 patients of blood group A\n",
      "There are 1 patients of blood group B\n",
      "There are 13 patients of blood group AB\n",
      "There are 15 patients of blood group O\n",
      "There are 0 patients of blood group OO\n"
     ]
    }
   ],
   "source": [
    "def bldcount(bloodtype):\n",
    "   \n",
    " a = open(\"C:/Users/Administrator/BDATPB1/bloodtype1.txt\", \"r\")\n",
    " b = a.read()\n",
    " c = b.split()\n",
    " print(c)\n",
    " x1 = str(c.count('A'))\n",
    " print(\"There are \" + x1 + \" patients of blood group A\")\n",
    " x2 = str(c.count('B'))\n",
    " print(\"There are \" + x2 + \" patients of blood group B\")\n",
    " x3 = str(c.count('AB'))\n",
    " print(\"There are \" + x3 + \" patients of blood group AB\")\n",
    " x4 = str(c.count('O'))\n",
    " print(\"There are \" + x4 + \" patients of blood group O\")\n",
    " x5 = str(c.count('OO'))\n",
    " print(\"There are \" + x5 + \" patients of blood group OO\")\n",
    "\n",
    "bldcount('bloodtype.txt')"
   ]
  },
  {
   "cell_type": "markdown",
   "metadata": {},
   "source": [
    "# Question 8"
   ]
  },
  {
   "cell_type": "markdown",
   "metadata": {},
   "source": [
    "Write a function curconv() that takes as input:\n",
    "1. a currency represented using a string (e.g., 'JPY' for the Japanese Yen or\n",
    "'EUR' for the Euro)\n",
    "2. an amount\n",
    "and then converts and returns the amount in US dollars."
   ]
  },
  {
   "cell_type": "code",
   "execution_count": 3,
   "metadata": {},
   "outputs": [
    {
     "name": "stdout",
     "output_type": "stream",
     "text": [
      "1.241401\n",
      "122.96544\n"
     ]
    }
   ],
   "source": [
    "def curconv(currency , amount):\n",
    "    with open(\"C:/Users/Administrator/BDATPB1/currencies.txt\", \"r\") as fh:\n",
    "        Test = {}\n",
    "        x = fh.readlines()\n",
    "        for i in x:\n",
    "            list = i.split()\n",
    "            Test[ list[ 0 ] ] = float(list[ 1 ])\n",
    "    try:\n",
    "        output = Test[currency] * amount\n",
    "        return output\n",
    "    except:\n",
    "        return 'Invalid Input'\n",
    "\n",
    "\n",
    "print(curconv('JPY' , 100))\n",
    "print(curconv('EUR' , 100))"
   ]
  },
  {
   "cell_type": "markdown",
   "metadata": {},
   "source": [
    "# Question 9"
   ]
  },
  {
   "cell_type": "markdown",
   "metadata": {},
   "source": [
    "Each of the following will cause an exception (an error). Identify what type of\n",
    "exception each will cause."
   ]
  },
  {
   "cell_type": "markdown",
   "metadata": {},
   "source": [
    "|Exception          | Description             |                \n",
    "| :---              |-----------------:       | \n",
    "|Trying to add incompatible variables, as in adding 6 + ‘a’  | unsupported operand type(s) for +: 'int' and 'str'|       \n",
    "|Referring to the 12th item of a list that has only 10 items |list index out of range|\n",
    "| Using a value that is out of range for a function’s input, such as calling math.sqrt(-1.0) |math domain error|\n",
    "| Using an undeclared variable, such as print(x) when x has not been defined |name 'z' is not defined|\n",
    "| Trying to open a file that does not exist, such as mistyping the file name or looking in the wrong directory|[Errno 2] No such file or directory: 'C:/Users/Adminirator/Desktop/bloodtype1.txt' |"
   ]
  },
  {
   "cell_type": "markdown",
   "metadata": {},
   "source": [
    "# Question 10"
   ]
  },
  {
   "cell_type": "markdown",
   "metadata": {},
   "source": [
    "Encryption is the process of hiding the meaning of a text by substituting letters in the\n",
    "message with other letters, according to some system. If the process is successful, no\n",
    "one but the intended recipient can understand the encrypted message. Cryptanalysis\n",
    "refers to attempts to undo the encryption, even if some details of the encryption are\n",
    "unknown (for example, if an encrypted message has been intercepted). The first step\n",
    "of cryptanalysis is often to build up a table of letter frequencies in the encrypted text.\n",
    "Assume that the string letters is already defined as\n",
    "'abcdefghijklmnopqrstuvwxyz'. Write a function called frequencies()\n",
    "that takes a string as its only parameter, and returns a list of integers, showing the\n",
    "number of times each character appears in the text. Your function may ignore any\n",
    "characters that are not in letters. "
   ]
  },
  {
   "cell_type": "code",
   "execution_count": 4,
   "metadata": {},
   "outputs": [
    {
     "name": "stdout",
     "output_type": "stream",
     "text": [
      " a is : 1\n",
      " b is : 1\n",
      " c is : 1\n",
      " d is : 3\n",
      " e is : 5\n",
      " f is : 1\n",
      " g is : 1\n",
      " h is : 2\n",
      " i is : 1\n",
      " j is : 0\n",
      " k is : 1\n",
      " l is : 0\n",
      " m is : 1\n",
      " n is : 2\n",
      " o is : 4\n",
      " p is : 0\n",
      " q is : 1\n",
      " r is : 2\n",
      " s is : 0\n",
      " t is : 2\n",
      " u is : 1\n",
      " v is : 0\n",
      " w is : 1\n",
      " x is : 1\n",
      " y is : 0\n",
      " z is : 0\n",
      " T is : 1\n"
     ]
    }
   ],
   "source": [
    "import string\n",
    "def main(): \n",
    "    str ='The quick red fox got bored and went home'\n",
    "    x = str.replace(\" \", \"\")\n",
    "    freq(x) \n",
    "\n",
    "def freq(x): \n",
    "  \n",
    "    str2 = [\"a\",\"b\",\"c\",\"d\",\"e\",\"f\",\"g\",\"h\",\"i\",\"j\",\"k\",\"l\",\"m\",\"n\",\"o\",\"p\",\"q\",\"r\",\"s\",\"t\",\"u\",\"v\",\"w\",\"x\",\"y\",\"z\"] \n",
    "    \n",
    "    for i in x :             \n",
    "        if i not in str2: \n",
    "              str2.append(i)  \n",
    "              \n",
    "    for i in range(0, len(str2)): \n",
    "          print('', str2[i], 'is :', x.count(str2[i]))     \n",
    "  \n",
    "                    \n",
    "if __name__==\"__main__\": \n",
    "           main()             "
   ]
  },
  {
   "cell_type": "code",
   "execution_count": null,
   "metadata": {},
   "outputs": [],
   "source": [
    "# Note : Taken help from Week02-03 class learning notebook , W3schools to learn python and c#"
   ]
  }
 ],
 "metadata": {
  "kernelspec": {
   "display_name": "Python 3",
   "language": "python",
   "name": "python3"
  },
  "language_info": {
   "codemirror_mode": {
    "name": "ipython",
    "version": 3
   },
   "file_extension": ".py",
   "mimetype": "text/x-python",
   "name": "python",
   "nbconvert_exporter": "python",
   "pygments_lexer": "ipython3",
   "version": "3.8.5"
  }
 },
 "nbformat": 4,
 "nbformat_minor": 4
}
